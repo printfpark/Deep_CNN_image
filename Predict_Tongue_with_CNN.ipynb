{
 "cells": [
  {
   "cell_type": "markdown",
   "metadata": {},
   "source": []
  },
  {
   "cell_type": "code",
   "execution_count": 3,
   "metadata": {},
   "outputs": [
    {
     "name": "stdout",
     "output_type": "stream",
     "text": [
      "1  파일 길이 :  4002\n",
      "1  :  ./multi_img_data/1\\1.jpg\n",
      "1  :  ./multi_img_data/1\\rotate0_541.jpg\n",
      "1  :  ./multi_img_data/1\\rotate1_3687.jpg\n",
      "1  :  ./multi_img_data/1\\rotate2_3248.jpg\n",
      "1  :  ./multi_img_data/1\\rotate3_2799.jpg\n",
      "1  :  ./multi_img_data/1\\rotate4_2340.jpg\n",
      "2  파일 길이 :  4002\n",
      "2  :  ./multi_img_data/2\\2.JPG\n",
      "2  :  ./multi_img_data/2\\rotate0_541.jpg\n",
      "2  :  ./multi_img_data/2\\rotate1_3687.jpg\n",
      "2  :  ./multi_img_data/2\\rotate2_3248.jpg\n",
      "2  :  ./multi_img_data/2\\rotate3_2799.jpg\n",
      "2  :  ./multi_img_data/2\\rotate4_2340.jpg\n",
      "3  파일 길이 :  4002\n",
      "3  :  ./multi_img_data/3\\3.jpg\n",
      "3  :  ./multi_img_data/3\\rotate0_541.jpg\n",
      "3  :  ./multi_img_data/3\\rotate1_3687.jpg\n",
      "3  :  ./multi_img_data/3\\rotate2_3248.jpg\n",
      "3  :  ./multi_img_data/3\\rotate3_2799.jpg\n",
      "3  :  ./multi_img_data/3\\rotate4_2340.jpg\n",
      "4  파일 길이 :  4002\n",
      "4  :  ./multi_img_data/4\\4.jpg\n",
      "4  :  ./multi_img_data/4\\rotate0_541.jpg\n",
      "4  :  ./multi_img_data/4\\rotate1_3687.jpg\n",
      "4  :  ./multi_img_data/4\\rotate2_3248.jpg\n",
      "4  :  ./multi_img_data/4\\rotate3_2799.jpg\n",
      "4  :  ./multi_img_data/4\\rotate4_2340.jpg\n",
      "5  파일 길이 :  4002\n",
      "5  :  ./multi_img_data/5\\5.jpg\n",
      "5  :  ./multi_img_data/5\\rotate0_541.jpg\n",
      "5  :  ./multi_img_data/5\\rotate1_3687.jpg\n",
      "5  :  ./multi_img_data/5\\rotate2_3248.jpg\n",
      "5  :  ./multi_img_data/5\\rotate3_2799.jpg\n",
      "5  :  ./multi_img_data/5\\rotate4_2340.jpg\n",
      "6  파일 길이 :  4002\n",
      "6  :  ./multi_img_data/6\\6.jpg\n",
      "6  :  ./multi_img_data/6\\rotate0_541.jpg\n",
      "6  :  ./multi_img_data/6\\rotate1_3687.jpg\n",
      "6  :  ./multi_img_data/6\\rotate2_3248.jpg\n",
      "6  :  ./multi_img_data/6\\rotate3_2799.jpg\n",
      "6  :  ./multi_img_data/6\\rotate4_2340.jpg\n",
      "ok 24012\n"
     ]
    }
   ],
   "source": [
    "from PIL import Image\n",
    "import os, glob, numpy as np\n",
    "from sklearn.model_selection import train_test_split\n",
    "\n",
    "#1. 담홍설 2. 홍설 3. 담백설 4. 박태 5. 후태 6. 황태 \n",
    "\n",
    "caltech_dir = \"./multi_img_data\"\n",
    "categories = [\"1\", \"2\", \"3\", \"4\", \"5\", \"6\"]\n",
    "nb_classes = len(categories)\n",
    "\n",
    "image_w = 64\n",
    "image_h = 64\n",
    "\n",
    "pixels = image_h * image_w * 3\n",
    "\n",
    "X = []\n",
    "y = []\n",
    "\n",
    "for idx, cat in enumerate(categories):\n",
    "    \n",
    "    #one-hot 돌리기.\n",
    "    label = [0 for i in range(nb_classes)]\n",
    "    label[idx] = 1\n",
    "\n",
    "    image_dir = caltech_dir + \"/\" + cat\n",
    "    files = glob.glob(image_dir+\"/*.jpg\")\n",
    "    print(cat, \" 파일 길이 : \", len(files))\n",
    "    for i, f in enumerate(files):\n",
    "        img = Image.open(f)\n",
    "        img = img.convert(\"RGB\")\n",
    "        img = img.resize((image_w, image_h))\n",
    "        data = np.asarray(img)\n",
    "\n",
    "        X.append(data)\n",
    "        y.append(label)\n",
    "\n",
    "        if i % 700 == 0:\n",
    "            print(cat, \" : \", f)\n",
    "\n",
    "X = np.array(X)\n",
    "y = np.array(y)\n",
    "#1 0 0 0 0 0이면 담홍설\n",
    "#0 1 0 0 0 0이면 홍설\n",
    "...\n",
    "\n",
    "\n",
    "X_train, X_test, y_train, y_test = train_test_split(X, y)\n",
    "xy = (X_train, X_test, y_train, y_test)\n",
    "np.save(\"./numpy_data/multi_image_data.npy\", xy)\n",
    "\n",
    "print(\"ok\", len(y))\n"
   ]
  },
  {
   "cell_type": "markdown",
   "metadata": {},
   "source": []
  },
  {
   "cell_type": "code",
   "execution_count": 4,
   "metadata": {},
   "outputs": [
    {
     "name": "stderr",
     "output_type": "stream",
     "text": [
      "Using TensorFlow backend.\n"
     ]
    },
    {
     "name": "stdout",
     "output_type": "stream",
     "text": [
      "(18009, 64, 64, 3)\n",
      "18009\n"
     ]
    }
   ],
   "source": [
    "#numpy 데이터를 불러 학습, keras 사용\n",
    "\n",
    "import os, glob, numpy as np\n",
    "from keras.models import Sequential\n",
    "from keras.layers import Conv2D, MaxPooling2D, Dense, Flatten, Dropout\n",
    "from keras.callbacks import EarlyStopping, ModelCheckpoint\n",
    "import matplotlib.pyplot as plt\n",
    "import keras.backend.tensorflow_backend as K\n",
    "\n",
    "import tensorflow as tf\n",
    "config = tf.ConfigProto()\n",
    "config.gpu_options.allow_growth = True\n",
    "session = tf.Session(config=config)\n",
    "\n",
    "X_train, X_test, y_train, y_test = np.load('./numpy_data/multi_image_data.npy') \n",
    "#값을 불러옴\n",
    "print(X_train.shape)\n",
    "print(X_train.shape[0])"
   ]
  },
  {
   "cell_type": "code",
   "execution_count": 5,
   "metadata": {},
   "outputs": [],
   "source": [
    "#1. 담홍설 2. 홍설 3. 담백석 4. 박태 5. 후태 6. 황태\n",
    "categories = [\"담홍설\", \"홍설\", \"담백설\", \"박태\", \"후태\", \"황태\"]\n",
    "nb_classes = len(categories) # 클래스 개수 설정\n",
    "\n",
    "#일반화\n",
    "X_train = X_train.astype(float) / 255  \n",
    "#정규화, 값의 폭이 크기 때문\n",
    "X_test = X_test.astype(float) / 255"
   ]
  },
  {
   "cell_type": "code",
   "execution_count": 6,
   "metadata": {},
   "outputs": [],
   "source": [
    "#데이터 전처리 끝, 훈련모델 생성\n",
    "#컨볼루션 레이어 구축\n",
    "#순서\n",
    "#이미지->32 컨볼루션2D -> maxpooling -> dropout -> 64개 컨볼루션 2D -> maxpooling -> dropout -> \n",
    "#128개 컨볼루션 2D -> maxpooling 2D-> dropout -> Dense -> dropout ->dense\n",
    "#망으로 구축\n",
    "\n",
    "with K.tf_ops.device('/device:GPU:0'):\n",
    "    model = Sequential()\n",
    "    model.add(Conv2D(32, (3,3), padding=\"same\", input_shape=X_train.shape[1:], activation='relu'))\n",
    "    model.add(MaxPooling2D(pool_size=(2,2)))\n",
    "    model.add(Dropout(0.25))\n",
    "    \n",
    "    model.add(Conv2D(64, (3,3), padding=\"same\", activation='relu'))\n",
    "    model.add(MaxPooling2D(pool_size=(2,2)))\n",
    "    model.add(Dropout(0.25))\n",
    "    \n",
    "    model.add(Flatten())\n",
    "    model.add(Dense(256, activation='relu'))\n",
    "    model.add(Dropout(0.5))\n",
    "    model.add(Dense(nb_classes, activation='softmax'))\n",
    "    model.compile(loss='categorical_crossentropy', optimizer='adam', metrics=['accuracy'])\n",
    "    model_dir = './model'\n",
    "    \n",
    "    if not os.path.exists(model_dir):\n",
    "        os.mkdir(model_dir)\n",
    "    \n",
    "    model_path = model_dir + '/multi_img_classification.model'\n",
    "    checkpoint = ModelCheckpoint(filepath=model_path , monitor='val_loss', verbose=1, save_best_only=True)\n",
    "    early_stopping = EarlyStopping(monitor='val_loss', patience=6)\n",
    "    \n",
    "    "
   ]
  },
  {
   "cell_type": "code",
   "execution_count": 7,
   "metadata": {},
   "outputs": [
    {
     "name": "stdout",
     "output_type": "stream",
     "text": [
      "_________________________________________________________________\n",
      "Layer (type)                 Output Shape              Param #   \n",
      "=================================================================\n",
      "conv2d_1 (Conv2D)            (None, 64, 64, 32)        896       \n",
      "_________________________________________________________________\n",
      "max_pooling2d_1 (MaxPooling2 (None, 32, 32, 32)        0         \n",
      "_________________________________________________________________\n",
      "dropout_1 (Dropout)          (None, 32, 32, 32)        0         \n",
      "_________________________________________________________________\n",
      "conv2d_2 (Conv2D)            (None, 32, 32, 64)        18496     \n",
      "_________________________________________________________________\n",
      "max_pooling2d_2 (MaxPooling2 (None, 16, 16, 64)        0         \n",
      "_________________________________________________________________\n",
      "dropout_2 (Dropout)          (None, 16, 16, 64)        0         \n",
      "_________________________________________________________________\n",
      "flatten_1 (Flatten)          (None, 16384)             0         \n",
      "_________________________________________________________________\n",
      "dense_1 (Dense)              (None, 256)               4194560   \n",
      "_________________________________________________________________\n",
      "dropout_3 (Dropout)          (None, 256)               0         \n",
      "_________________________________________________________________\n",
      "dense_2 (Dense)              (None, 6)                 1542      \n",
      "=================================================================\n",
      "Total params: 4,215,494\n",
      "Trainable params: 4,215,494\n",
      "Non-trainable params: 0\n",
      "_________________________________________________________________\n"
     ]
    }
   ],
   "source": [
    "model.summary()"
   ]
  },
  {
   "cell_type": "code",
   "execution_count": 8,
   "metadata": {},
   "outputs": [
    {
     "name": "stdout",
     "output_type": "stream",
     "text": [
      "Train on 18009 samples, validate on 6003 samples\n",
      "Epoch 1/10\n",
      "18009/18009 [==============================] - 518s 29ms/step - loss: 0.0725 - acc: 0.9810 - val_loss: 8.0505e-06 - val_acc: 1.0000\n",
      "\n",
      "Epoch 00001: val_loss improved from inf to 0.00001, saving model to ./model/multi_img_classification.model\n",
      "Epoch 2/10\n",
      "18009/18009 [==============================] - 483s 27ms/step - loss: 6.0286e-04 - acc: 0.9999 - val_loss: 1.2110e-07 - val_acc: 1.0000\n",
      "\n",
      "Epoch 00002: val_loss improved from 0.00001 to 0.00000, saving model to ./model/multi_img_classification.model\n",
      "Epoch 3/10\n",
      "18009/18009 [==============================] - 481s 27ms/step - loss: 4.7447e-04 - acc: 0.9999 - val_loss: 1.1921e-07 - val_acc: 1.0000\n",
      "\n",
      "Epoch 00003: val_loss improved from 0.00000 to 0.00000, saving model to ./model/multi_img_classification.model\n",
      "Epoch 4/10\n",
      "18009/18009 [==============================] - 484s 27ms/step - loss: 0.0030 - acc: 0.9990 - val_loss: 1.1921e-07 - val_acc: 1.0000\n",
      "\n",
      "Epoch 00004: val_loss did not improve from 0.00000\n",
      "Epoch 5/10\n",
      "18009/18009 [==============================] - 488s 27ms/step - loss: 2.8099e-05 - acc: 1.0000 - val_loss: 1.1921e-07 - val_acc: 1.0000\n",
      "\n",
      "Epoch 00005: val_loss did not improve from 0.00000\n",
      "Epoch 6/10\n",
      "18009/18009 [==============================] - 490s 27ms/step - loss: 0.0026 - acc: 0.9991 - val_loss: 1.6549e-07 - val_acc: 1.0000\n",
      "\n",
      "Epoch 00006: val_loss did not improve from 0.00000\n",
      "Epoch 7/10\n",
      "18009/18009 [==============================] - 554s 31ms/step - loss: 3.5433e-04 - acc: 0.9999 - val_loss: 1.1921e-07 - val_acc: 1.0000\n",
      "\n",
      "Epoch 00007: val_loss did not improve from 0.00000\n",
      "Epoch 8/10\n",
      "18009/18009 [==============================] - 548s 30ms/step - loss: 1.2823e-04 - acc: 1.0000 - val_loss: 1.1921e-07 - val_acc: 1.0000\n",
      "\n",
      "Epoch 00008: val_loss did not improve from 0.00000\n",
      "Epoch 9/10\n",
      "18009/18009 [==============================] - 542s 30ms/step - loss: 8.9499e-06 - acc: 1.0000 - val_loss: 1.1921e-07 - val_acc: 1.0000\n",
      "\n",
      "Epoch 00009: val_loss did not improve from 0.00000\n"
     ]
    }
   ],
   "source": [
    "\n",
    "history = model.fit(X_train, y_train, batch_size=32, epochs=10, validation_data=(X_test, y_test), callbacks=[checkpoint, early_stopping])"
   ]
  },
  {
   "cell_type": "code",
   "execution_count": 9,
   "metadata": {},
   "outputs": [
    {
     "name": "stdout",
     "output_type": "stream",
     "text": [
      "6003/6003 [==============================] - 11s 2ms/step\n",
      "정확도 : 1.0000\n"
     ]
    }
   ],
   "source": [
    "print(\"정확도 : %.4f\" % (model.evaluate(X_test, y_test)[1]))"
   ]
  },
  {
   "cell_type": "code",
   "execution_count": 10,
   "metadata": {},
   "outputs": [
    {
     "data": {
      "image/png": "[encoded data removed]",
      "text/plain": [
       "<Figure size 432x288 with 1 Axes>"
      ]
     },
     "metadata": {
      "needs_background": "light"
     },
     "output_type": "display_data"
    }
   ],
   "source": [
    "#loss 확인 그래프 생성\n",
    "y_vloss = history.history['val_loss']\n",
    "y_loss = history.history['loss']\n",
    "\n",
    "x_len = np.arange(len(y_loss))\n",
    "\n",
    "plt.plot(x_len, y_vloss, marker='.', c='red', label='val_set_loss')\n",
    "plt.plot(x_len, y_loss, marker='.', c='blue', label='train_set_oss')\n",
    "plt.legend()\n",
    "plt.xlabel('epochs')\n",
    "plt.ylabel('loss')\n",
    "plt.grid()\n",
    "plt.show()"
   ]
  },
  {
   "cell_type": "code",
   "execution_count": 12,
   "metadata": {},
   "outputs": [
    {
     "name": "stdout",
     "output_type": "stream",
     "text": [
      "[0.000 0.000 0.000 0.000 0.000 1.000]\n",
      "5\n"
     ]
    }
   ],
   "source": [
    "from PIL import Image\n",
    "import os, glob, numpy as np\n",
    "from keras.models import load_model\n",
    "\n",
    "caltech_dir = \"./multi_img_data/compare_imgae\"\n",
    "image_w = 64\n",
    "image_h = 64\n",
    "\n",
    "pixels = image_h * image_w * 3\n",
    "\n",
    "X = []\n",
    "filenames = []\n",
    "files = glob.glob(caltech_dir+\"/*.*\")\n",
    "for i, f in enumerate(files):\n",
    "    img = Image.open(f)\n",
    "    img = img.convert(\"RGB\")\n",
    "    img = img.resize((image_w, image_h))\n",
    "    data = np.asarray(img)\n",
    "    filenames.append(f)\n",
    "    X.append(data)\n",
    "\n",
    "X = np.array(X)\n",
    "model = load_model('./model/multi_img_classification.model')\n",
    "\n",
    "prediction = model.predict(X)\n",
    "np.set_printoptions(formatter={'float': lambda x: \"{0:0.3f}\".format(x)})\n",
    "cnt = 0\n",
    "\n",
    "#1. 담홍설 2. 홍설 3. 담백석 4. 박태 5. 후태 6. 황태\n",
    "for i in prediction:\n",
    "    pre_ans = i.argmax()  \n",
    "    # 예측 레이블\n",
    "    print(i)\n",
    "    print(pre_ans)\n",
    "    pre_ans_str = ''\n",
    "    if pre_ans == 0: pre_ans_str = \"담홍설\"\n",
    "    elif pre_ans == 1: pre_ans_str = \"홍설\"\n",
    "    elif pre_ans == 2: pre_ans_str = \"담백설\"\n",
    "    elif pre_ans == 2: pre_ans_str = \"박태\"\n",
    "    elif pre_ans == 2: pre_ans_str = \"후태\"\n",
    "    else: pre_ans_str = \"황태\"        \n",
    "    if i[0] >= 0.8: print(\"해당 \"+filenames[cnt].split(\"\\\\\")[1]+\"이미지는 \"+pre_ans_str+\"로 추정됩니다.\")\n",
    "    if i[1] >= 0.8: print(\"해당 \"+filenames[cnt].split(\"\\\\\")[1]+\"이미지는 \"+pre_ans_str+\"으로 추정됩니다.\")\n",
    "    if i[2] >= 0.8: print(\"해당 \"+filenames[cnt].split(\"\\\\\")[1]+\"이미지는 \"+pre_ans_str+\"로 추정됩니다.\")\n",
    "    if i[3] >= 0.8: print(\"해당 \"+filenames[cnt].split(\"\\\\\")[1]+\"이미지는 \"+pre_ans_str+\"로 추정됩니다.\")\n",
    "    if i[4] >= 0.8: print(\"해당 \"+filenames[cnt].split(\"\\\\\")[1]+\"이미지는 \"+pre_ans_str+\"로 추정됩니다.\")\n",
    "    if i[5] >= 0.8: print(\"해당 \"+filenames[cnt].split(\"\\\\\")[1]+\"이미지는 \"+pre_ans_str+\"로 추정됩니다.\")\n",
    "    \n",
    "    cnt += 1"
   ]
  },
  {
   "cell_type": "markdown",
   "metadata": {},
   "source": []
  },
  {
   "cell_type": "code",
   "execution_count": null,
   "metadata": {},
   "outputs": [],
   "source": []
  },
  {
   "cell_type": "code",
   "execution_count": null,
   "metadata": {},
   "outputs": [],
   "source": []
  }
 ],
 "metadata": {
  "kernelspec": {
   "display_name": "Python 3",
   "language": "python",
   "name": "python3"
  },
  "language_info": {
   "codemirror_mode": {
    "name": "ipython",
    "version": 3
   },
   "file_extension": ".py",
   "mimetype": "text/x-python",
   "name": "python",
   "nbconvert_exporter": "python",
   "pygments_lexer": "ipython3",
   "version": "3.7.3"
  }
 },
 "nbformat": 4,
 "nbformat_minor": 2
}
